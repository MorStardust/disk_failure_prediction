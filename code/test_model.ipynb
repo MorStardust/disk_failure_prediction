{
 "cells": [
  {
   "cell_type": "code",
   "execution_count": null,
   "metadata": {},
   "outputs": [],
   "source": [
    "from sklearn.model_selection import train_test_split\n",
    "# model_selection -->\n",
    "# train_test_split--> cross validation\n",
    "# Leaky               no need validation sets\n",
    "# “validation set”: training proceeds on the training set, after which evaluation is done on the validation set, and when the experiment seems to be successful, final evaluation can be done on the test set.\n",
    "\n",
    "# Tuning parameters\n",
    "# Hyper-parameters are parameters that are not directly learnt within estimators. In scikit-learn they are passed as arguments to the constructor of the estimator classes. Typical examples include C, kernel and gamma for Support Vector Classifier, alpha for Lasso, etc.\n",
    "# A search consists of:\n",
    "# an estimator (regressor or classifier such as sklearn.svm.SVC());\n",
    "# + a parameter space;\n",
    "# + a method for searching or sampling candidates;\n",
    "# + a cross-validation scheme; and\n",
    "# + a score function.\n",
    "\n",
    "# Intuitively, precision is the ability of the classifier not to label as positive a sample that is negative, and recall is the ability of the classifier to find all the positive samples.\n",
    "# The F-measure (F_\\beta and F_1 measures) can be interpreted as a weighted harmonic mean of the precision and recall.\n",
    "\n",
    "# Models\n",
    "# Define Classifier\n",
    "# For each classifier, apply 'fit(X_train, Y_train)'\n",
    "# To obtain prediction, apply 'predict(X)'\n",
    "# To draw decision boundary, apply 'decision_function(X)' or 'predict_proba(X)'\n",
    "\n",
    "# Evaluation\n",
    "from sklearn.metrics import precision_recall_curve\n",
    "from sklearn.metrics import average_precision_score\n",
    "y_true = np.array([0, 0, 1, 1])\n",
    "y_scores = np.array([0.1, 0.4, 0.35, 0.8])\n",
    "precision, recall, threshold = precision_recall_curve(y_true, y_scores)\n",
    "average_precision_score(y_true, y_scores)"
   ]
  }
 ],
 "metadata": {
  "kernelspec": {
   "display_name": "Python 3",
   "language": "python",
   "name": "python3"
  },
  "language_info": {
   "codemirror_mode": {
    "name": "ipython",
    "version": 3
   },
   "file_extension": ".py",
   "mimetype": "text/x-python",
   "name": "python",
   "nbconvert_exporter": "python",
   "pygments_lexer": "ipython3",
   "version": "3.5.2"
  }
 },
 "nbformat": 4,
 "nbformat_minor": 2
}
