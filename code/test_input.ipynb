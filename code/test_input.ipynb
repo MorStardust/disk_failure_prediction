{
 "cells": [
  {
   "cell_type": "code",
   "execution_count": 117,
   "metadata": {},
   "outputs": [
    {
     "name": "stdout",
     "output_type": "stream",
     "text": [
      "Reading data from  ./data/2017/Q1/2017-10-01.csv\n",
      "Reading data from  ./data/2017/Q2/2017-10-04.csv\n",
      "Writing normalized data... Done\n",
      "Writing raw data... Done\n",
      "Writing binary data... Done\n"
     ]
    }
   ],
   "source": [
    "%matplotlib inline\n",
    "import pandas as pd\n",
    "import glob,os,sys\n",
    "\n",
    "# define input path\n",
    "input_path='./data/2017'\n",
    "output_file='pandas_union_concat.csv'\n",
    "\n",
    "# define cols\n",
    "cols=['date','serial_number','failure','smart_5_normalized','smart_5_raw','smart_187_normalized','smart_187_raw','smart_188_normalized','smart_188_raw','smart_197_normalized','smart_197_raw','smart_198_normalized','smart_198_raw'] \n",
    "binary_cols=['smart_5_binary','smart_187_binary','smart_188_binary','smart_197_binary','smart_198_binary']\n",
    "\n",
    "def add_binary_cols(data):\n",
    "    # add binary cols for each attribute    \n",
    "    for index in range(len(binary_cols)):\n",
    "        k = 2 * index + 4\n",
    "        data[binary_cols[index]] = (data[cols[k]] != 0).astype('int')\n",
    "    return data\n",
    "\n",
    "def save_file(data,cols,filename):\n",
    "    # slice only normalized value\n",
    "    save = data.iloc[:,cols]\n",
    "    save.to_csv(filename, index=False)\n",
    "    return 'Done'\n",
    "\n",
    "def input_data():\n",
    "    # input all the csv file in data dir\n",
    "    all_files=glob.glob(os.path.join(input_path,'*','*.csv'))\n",
    "    all_data_frames=[]\n",
    "    for index in range(len(all_files)):\n",
    "        df = pd.DataFrame(pd.read_csv(all_files[index], usecols=cols)).fillna(0)\n",
    "        print('Reading data from ',all_files[index])\n",
    "        if (index > 0):\n",
    "            df = df.drop(0) # drop the header in other files, just need it once\n",
    "        all_data_frames.append(df)\n",
    "    data_frame_concat=pd.concat(all_data_frames,axis=0,ignore_index=True) # re-indexing\n",
    "    return add_binary_cols(data_frame_concat)\n",
    "\n",
    "def main():\n",
    "    # Global dataframe, zero-fill the blanks\n",
    "    df = input_data()\n",
    "    print('Writing normalized data...',save_file(df,[0,1,2,3,5,7,9,11], 'all_normalized.csv'))\n",
    "    print('Writing raw data...',       save_file(df,[0,1,2,4,6,8,10,12],'all_raw.csv'))\n",
    "    print('Writing binary data...',    save_file(df,[0,1,2,13,14,15,16,17],'all_binary.csv'))\n",
    "\n",
    "if __name__ == \"__main__\":\n",
    "    # execute only if run as a script\n",
    "    main()"
   ]
  },
  {
   "cell_type": "code",
   "execution_count": null,
   "metadata": {},
   "outputs": [],
   "source": []
  }
 ],
 "metadata": {
  "kernelspec": {
   "display_name": "Python 3",
   "language": "python",
   "name": "python3"
  },
  "language_info": {
   "codemirror_mode": {
    "name": "ipython",
    "version": 3
   },
   "file_extension": ".py",
   "mimetype": "text/x-python",
   "name": "python",
   "nbconvert_exporter": "python",
   "pygments_lexer": "ipython3",
   "version": "3.5.2"
  }
 },
 "nbformat": 4,
 "nbformat_minor": 2
}
