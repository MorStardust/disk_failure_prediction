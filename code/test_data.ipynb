{
 "cells": [
  {
   "cell_type": "code",
   "execution_count": 102,
   "metadata": {},
   "outputs": [
    {
     "name": "stdout",
     "output_type": "stream",
     "text": [
      "11\n"
     ]
    }
   ],
   "source": [
    "import pandas as pd\n",
    "\n",
    "input_file='all_raw.csv'\n",
    "\n",
    "def label_failure(data):\n",
    "    \n",
    "    return data\n",
    "    \n",
    "if __name__ == \"__main__\":\n",
    "    # execute only if run as a script\n",
    "    df = pd.read_csv(input_file, header=0)\n",
    "    df_fail = df[df['failure'] == 1]\n",
    "    for index in range(len(df_fail)):\n",
    "        temp = df.loc[(df.date<=df_fail.iat[index,0])&(df.serial_number==df_fail.iat[index,1]),'failure']\n",
    "        temp.values[0] = 1\n",
    "        # https://blog.csdn.net/GeekLeee/article/details/75268762\n",
    "        # https://blog.csdn.net/u011089523/article/details/60341016\n",
    "    \n",
    "    print(len(df[df['failure'] == 1]))"
   ]
  },
  {
   "cell_type": "code",
   "execution_count": null,
   "metadata": {},
   "outputs": [],
   "source": []
  }
 ],
 "metadata": {
  "kernelspec": {
   "display_name": "Python 3",
   "language": "python",
   "name": "python3"
  },
  "language_info": {
   "codemirror_mode": {
    "name": "ipython",
    "version": 3
   },
   "file_extension": ".py",
   "mimetype": "text/x-python",
   "name": "python",
   "nbconvert_exporter": "python",
   "pygments_lexer": "ipython3",
   "version": "3.5.2"
  }
 },
 "nbformat": 4,
 "nbformat_minor": 2
}
